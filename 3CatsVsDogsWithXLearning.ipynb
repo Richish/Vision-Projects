{
  "nbformat": 4,
  "nbformat_minor": 0,
  "metadata": {
    "colab": {
      "name": "3CatsVsDogsWithXLearning.ipynb",
      "provenance": [],
      "collapsed_sections": [],
      "authorship_tag": "ABX9TyPO2hZDbeGfdX3wMrkMvjfR",
      "include_colab_link": true
    },
    "kernelspec": {
      "name": "python3",
      "display_name": "Python 3"
    },
    "language_info": {
      "name": "python"
    }
  },
  "cells": [
    {
      "cell_type": "markdown",
      "metadata": {
        "id": "view-in-github",
        "colab_type": "text"
      },
      "source": [
        "<a href=\"https://colab.research.google.com/github/Richish/Vision-Projects/blob/main/3CatsVsDogsWithXLearning.ipynb\" target=\"_parent\"><img src=\"https://colab.research.google.com/assets/colab-badge.svg\" alt=\"Open In Colab\"/></a>"
      ]
    },
    {
      "cell_type": "markdown",
      "source": [
        "# Cats vs dogs classification using transfer learning"
      ],
      "metadata": {
        "id": "22lu75Io5Jg9"
      }
    },
    {
      "cell_type": "markdown",
      "source": [
        "### downloading data"
      ],
      "metadata": {
        "id": "bElRGmHz5Nvx"
      }
    },
    {
      "cell_type": "code",
      "source": [
        "#!wget https://kaggle.com/c/dogs-vs-cats/redux-kernels-edition/download/train.zip"
      ],
      "metadata": {
        "colab": {
          "base_uri": "https://localhost:8080/"
        },
        "id": "CqlJzsYg5Qv7",
        "outputId": "dfe97e72-76b1-43ad-c117-5985e5671e05"
      },
      "execution_count": 2,
      "outputs": [
        {
          "output_type": "stream",
          "name": "stdout",
          "text": [
            "--2021-12-11 05:11:44--  https://kaggle.com/c/dogs-vs-cats/redux-kernels-edition/download/train.zip\n",
            "Resolving kaggle.com (kaggle.com)... 35.244.233.98\n",
            "Connecting to kaggle.com (kaggle.com)|35.244.233.98|:443... connected.\n",
            "HTTP request sent, awaiting response... 302 Found\n",
            "Location: https://www.kaggle.com/c/dogs-vs-cats/redux-kernels-edition/download/train.zip [following]\n",
            "--2021-12-11 05:11:44--  https://www.kaggle.com/c/dogs-vs-cats/redux-kernels-edition/download/train.zip\n",
            "Resolving www.kaggle.com (www.kaggle.com)... 35.244.233.98\n",
            "Connecting to www.kaggle.com (www.kaggle.com)|35.244.233.98|:443... connected.\n",
            "HTTP request sent, awaiting response... 200 OK\n",
            "Length: unspecified [text/html]\n",
            "Saving to: ‘train.zip’\n",
            "\n",
            "train.zip               [ <=>                ]  22.97K  --.-KB/s    in 0.02s   \n",
            "\n",
            "2021-12-11 05:11:45 (934 KB/s) - ‘train.zip’ saved [23521]\n",
            "\n"
          ]
        }
      ]
    },
    {
      "cell_type": "markdown",
      "source": [
        ""
      ],
      "metadata": {
        "id": "YJjMEX-s5Nyh"
      }
    },
    {
      "cell_type": "code",
      "execution_count": 28,
      "metadata": {
        "colab": {
          "base_uri": "https://localhost:8080/"
        },
        "id": "IBHgLpri42pC",
        "outputId": "1110d50d-259b-4f7a-fa42-27dfb0a8d30e"
      },
      "outputs": [
        {
          "output_type": "stream",
          "name": "stdout",
          "text": [
            "Archive:  /content/train.zip\n",
            "  End-of-central-directory signature not found.  Either this file is not\n",
            "  a zipfile, or it constitutes one disk of a multi-part archive.  In the\n",
            "  latter case the central directory and zipfile comment will be found on\n",
            "  the last disk(s) of this archive.\n",
            "unzip:  cannot find zipfile directory in one of /content/train or\n",
            "        /content/train.zip, and cannot find /content/train.ZIP, period.\n"
          ]
        }
      ],
      "source": [
        "!unzip /content/train"
      ]
    },
    {
      "cell_type": "code",
      "source": [
        "!mv train data\n",
        "!mkdir -p data/train/cat data/train/dog data/val/cat data/val/dog\n",
        "!cd data\n"
      ],
      "metadata": {
        "id": "cKe3sph16eqL"
      },
      "execution_count": null,
      "outputs": []
    },
    {
      "cell_type": "code",
      "source": [
        "!ls|grep cat|sort -R|head -250|xargs -I {} mv {} train/cat\n",
        "!ls|grep dog|sort -R|head -250|xargs -I {} mv {} train/dog\n",
        "!ls|grep cat|sort -R|head -250|xargs -I {} mv {} val/cat\n",
        "!ls|grep dog|sort -R|head -250|xargs -I {} mv {} val/dog"
      ],
      "metadata": {
        "id": "ghjX-H8L64AI"
      },
      "execution_count": null,
      "outputs": []
    },
    {
      "cell_type": "markdown",
      "source": [
        "## Build the pipeline"
      ],
      "metadata": {
        "id": "RkbyirWY7tT8"
      }
    },
    {
      "cell_type": "code",
      "source": [
        "import tensorflow as tf\n",
        "from tensorflow.keras.preprocessing.image import ImageDataGenerator\n",
        "from tensorflow.keras.models import Model\n",
        "from tensorflow.keras.layers import Input, Flatten, Dense, Dropout, GlobalAveragePooling2D\n",
        "from tensorflow.keras.applications.mobilenet import MobileNet, preprocess_input\n",
        "import math"
      ],
      "metadata": {
        "id": "QkqwPCAF7sYX"
      },
      "execution_count": 7,
      "outputs": []
    },
    {
      "cell_type": "code",
      "source": [
        "TRAIN_DATA_DIR = \"data/train\"\n",
        "VALIDATION_DATA_DIR = \"data/val\"\n",
        "TRAIN_SAMPLES = 500\n",
        "VALIDATION_SAMPLES = 500\n",
        "NUM_CLASSES = 2\n",
        "IMG_WIDTH, IMG_HEIGHT = 224,224\n",
        "BATCH_SIZE = 64"
      ],
      "metadata": {
        "id": "yAk0qtTz8x-h"
      },
      "execution_count": 9,
      "outputs": []
    },
    {
      "cell_type": "markdown",
      "source": [
        "## Data Augmentation and preprocessing"
      ],
      "metadata": {
        "id": "QK-FLZK5-tL4"
      }
    },
    {
      "cell_type": "code",
      "source": [
        "train_datagen = ImageDataGenerator(preprocessing_function=preprocess_input, rotation_range=20, width_shift_range=0.2, height_shift_range=0.2, zoom_range=0.2)\n",
        "val_datagen = ImageDataGenerator(preprocessing_function=preprocess_input)"
      ],
      "metadata": {
        "id": "atyo0Hlx-1PD"
      },
      "execution_count": 10,
      "outputs": []
    },
    {
      "cell_type": "code",
      "source": [
        "train_generator = train_datagen.flow_from_directory(directory=TRAIN_DATA_DIR, target_size=(IMG_WIDTH, IMG_HEIGHT), \n",
        "                                                    batch_size=BATCH_SIZE, shuffle=True, seed=42, class_mode=\"categorical\")\n",
        "val_generator = val_datagen.flow_from_directory(directory=VALIDATION_DATA_DIR, target_size=(IMG_WIDTH, IMG_HEIGHT), \n",
        "                                                batch_size=BATCH_SIZE, shuffle=False, class_mode='categorical')\n"
      ],
      "metadata": {
        "id": "_aQROUZOAVRw"
      },
      "execution_count": null,
      "outputs": []
    },
    {
      "cell_type": "markdown",
      "source": [
        "## Model definition"
      ],
      "metadata": {
        "id": "7uJjleVCB5_a"
      }
    },
    {
      "cell_type": "code",
      "source": [
        "def model_maker():\n",
        "    base_model = MobileNet(input_shape=(IMG_WIDTH, IMG_HEIGHT, 3), include_top=False)\n",
        "    for layer in base_model.layers[:]:\n",
        "        layer.trainable = False\n",
        "    input = Input(shape=(IMG_WIDTH, IMG_HEIGHT, 3))\n",
        "    custom_model = base_model(input)\n",
        "    custom_model = GlobalAveragePooling2D()(custom_model)\n",
        "    custom_model = Dense(units=64, activation='relu')(custom_model)\n",
        "    custom_model = Dropout(0.5)(custom_model)\n",
        "    predictions = Dense(NUM_CLASSES, activation=\"softmax\")(custom_model)\n",
        "    return Model(inputs=input, outputs=predictions)"
      ],
      "metadata": {
        "id": "TgIhUNh2AVnL"
      },
      "execution_count": 12,
      "outputs": []
    },
    {
      "cell_type": "markdown",
      "source": [
        "## Training"
      ],
      "metadata": {
        "id": "AChfRrmNDYuD"
      }
    },
    {
      "cell_type": "code",
      "source": [
        "model = model_maker()\n",
        "model.compile(optimizer=tf.keras.optimizers.Adam(learning_rate=0.001), loss=\"categorical_crossentropy\", metrics=['acc'])\n",
        "num_steps = math.ceil(float(TRAIN_SAMPLES)/BATCH_SIZE)\n",
        "model.fit_generator(train_generator, steps_per_epoch=num_steps, epochs=10, validation_data=val_generator, validation_steps=num_steps)"
      ],
      "metadata": {
        "id": "_5rDfSasAVpx"
      },
      "execution_count": 18,
      "outputs": []
    },
    {
      "cell_type": "code",
      "source": [
        "model.save('model.h5')"
      ],
      "metadata": {
        "id": "S8KaZObUAVs5"
      },
      "execution_count": null,
      "outputs": []
    },
    {
      "cell_type": "markdown",
      "source": [
        "## Testing the model"
      ],
      "metadata": {
        "id": "imJzHy8RHxh8"
      }
    },
    {
      "cell_type": "code",
      "source": [
        "from tf.keras.models import load_model\n",
        "model = load_model('model.h5')"
      ],
      "metadata": {
        "id": "h-VIqulWH2aS"
      },
      "execution_count": null,
      "outputs": []
    },
    {
      "cell_type": "code",
      "source": [
        "from tensorflow.keras.preprocessing import image\n",
        "import numpy as np\n",
        "img_path = \"sample_data/dog.jpg\"\n",
        "img = image.load_img(img_path, target_size=(224,224))\n",
        "img_array = image.img_to_array(img)\n",
        "expanded_img_array = np.expand_dims(img_array, axis=0)\n",
        "preprocessed_img = preprocess_input(expanded_img_array)\n",
        "prediction = model.predict(preprocessed_img)\n",
        "print(prediction)\n",
        "print(validation_generator.class_indices)"
      ],
      "metadata": {
        "id": "6vl26Y_BI36B"
      },
      "execution_count": 24,
      "outputs": []
    },
    {
      "cell_type": "markdown",
      "source": [
        "## Analyzing confidence levels of predictions"
      ],
      "metadata": {
        "id": "t_ss2rKzNJEZ"
      }
    },
    {
      "cell_type": "code",
      "source": [
        "ground_truth = val_generator.classes\n",
        "ground_truth"
      ],
      "metadata": {
        "id": "ZaHjH1e1NMoZ"
      },
      "execution_count": null,
      "outputs": []
    },
    {
      "cell_type": "code",
      "source": [
        "predictions = model.predict_generator(val_generator)\n"
      ],
      "metadata": {
        "id": "ZdUfihftNfE-"
      },
      "execution_count": null,
      "outputs": []
    },
    {
      "cell_type": "code",
      "source": [
        "prediction_table = {}\n",
        "\n",
        "for index, val in enumerate(predictions):\n",
        "    index_of_highest_probability = np.argmax(val)\n",
        "    value_of_highest_probability = val[index_of_highest_probability]\n",
        "    prediction_table[index] = [value_of_highest_probability, index_of_highest_probability, ground_truth[index]]\n",
        "assert len(predictions) == len(ground_truth) == len(prediction_table)\n",
        "prediction_table\n"
      ],
      "metadata": {
        "id": "_cTu0dR2Nyfr"
      },
      "execution_count": null,
      "outputs": []
    },
    {
      "cell_type": "code",
      "source": [
        "def display(sorted_indices, message):\n",
        "    similar_images_paths = []\n",
        "    distances = []\n",
        "    for name, value in sorted_indeces:\n",
        "        [probability, predicted_index, gt] = value\n",
        "        similar_images_paths.append(VALIDATION_DATA_DIR+fnames[name])\n",
        "        distances.append(probability)\n",
        "        plot_images(similar_images_paths, distances, message)"
      ],
      "metadata": {
        "id": "7Q_G5AR4O0Im"
      },
      "execution_count": 25,
      "outputs": []
    }
  ]
}